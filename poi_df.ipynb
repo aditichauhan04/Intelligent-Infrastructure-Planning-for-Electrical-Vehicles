{
 "cells": [
  {
   "cell_type": "code",
   "execution_count": 37,
   "id": "ed98af97",
   "metadata": {},
   "outputs": [],
   "source": [
    "import pandas as pd\n",
    "import numpy as np\n",
    "import matplotlib.pyplot as plt\n",
    "import re"
   ]
  },
  {
   "cell_type": "code",
   "execution_count": 1,
   "id": "2bb8105f",
   "metadata": {},
   "outputs": [
    {
     "name": "stdout",
     "output_type": "stream",
     "text": [
      "Collecting gspread\n",
      "  Downloading gspread-5.6.2-py3-none-any.whl (38 kB)\n",
      "Requirement already satisfied: google-auth-oauthlib>=0.4.1 in c:\\users\\user\\anaconda3\\envs\\newenv\\lib\\site-packages (from gspread) (0.4.1)\n",
      "Requirement already satisfied: google-auth>=1.12.0 in c:\\users\\user\\anaconda3\\envs\\newenv\\lib\\site-packages (from gspread) (2.6.0)\n",
      "Requirement already satisfied: rsa<5,>=3.1.4 in c:\\users\\user\\anaconda3\\envs\\newenv\\lib\\site-packages (from google-auth>=1.12.0->gspread) (4.7.2)\n",
      "Requirement already satisfied: pyasn1-modules>=0.2.1 in c:\\users\\user\\anaconda3\\envs\\newenv\\lib\\site-packages (from google-auth>=1.12.0->gspread) (0.2.8)\n",
      "Requirement already satisfied: six>=1.9.0 in c:\\users\\user\\anaconda3\\envs\\newenv\\lib\\site-packages (from google-auth>=1.12.0->gspread) (1.16.0)\n",
      "Requirement already satisfied: cachetools<6.0,>=2.0.0 in c:\\users\\user\\anaconda3\\envs\\newenv\\lib\\site-packages (from google-auth>=1.12.0->gspread) (4.2.2)\n",
      "Requirement already satisfied: requests-oauthlib>=0.7.0 in c:\\users\\user\\anaconda3\\envs\\newenv\\lib\\site-packages (from google-auth-oauthlib>=0.4.1->gspread) (1.3.0)\n",
      "Requirement already satisfied: pyasn1<0.5.0,>=0.4.6 in c:\\users\\user\\anaconda3\\envs\\newenv\\lib\\site-packages (from pyasn1-modules>=0.2.1->google-auth>=1.12.0->gspread) (0.4.8)\n",
      "Requirement already satisfied: requests>=2.0.0 in c:\\users\\user\\anaconda3\\envs\\newenv\\lib\\site-packages (from requests-oauthlib>=0.7.0->google-auth-oauthlib>=0.4.1->gspread) (2.27.1)\n",
      "Requirement already satisfied: oauthlib>=3.0.0 in c:\\users\\user\\anaconda3\\envs\\newenv\\lib\\site-packages (from requests-oauthlib>=0.7.0->google-auth-oauthlib>=0.4.1->gspread) (3.2.0)\n",
      "Requirement already satisfied: charset-normalizer~=2.0.0 in c:\\users\\user\\anaconda3\\envs\\newenv\\lib\\site-packages (from requests>=2.0.0->requests-oauthlib>=0.7.0->google-auth-oauthlib>=0.4.1->gspread) (2.0.4)\n",
      "Requirement already satisfied: urllib3<1.27,>=1.21.1 in c:\\users\\user\\anaconda3\\envs\\newenv\\lib\\site-packages (from requests>=2.0.0->requests-oauthlib>=0.7.0->google-auth-oauthlib>=0.4.1->gspread) (1.26.9)\n",
      "Requirement already satisfied: certifi>=2017.4.17 in c:\\users\\user\\anaconda3\\envs\\newenv\\lib\\site-packages (from requests>=2.0.0->requests-oauthlib>=0.7.0->google-auth-oauthlib>=0.4.1->gspread) (2022.9.24)\n",
      "Requirement already satisfied: idna<4,>=2.5 in c:\\users\\user\\anaconda3\\envs\\newenv\\lib\\site-packages (from requests>=2.0.0->requests-oauthlib>=0.7.0->google-auth-oauthlib>=0.4.1->gspread) (3.3)\n",
      "Installing collected packages: gspread\n",
      "Successfully installed gspread-5.6.2\n",
      "Note: you may need to restart the kernel to use updated packages.\n"
     ]
    }
   ],
   "source": [
    "pip install gspread"
   ]
  },
  {
   "cell_type": "code",
   "execution_count": 2,
   "id": "3ea00c90",
   "metadata": {},
   "outputs": [
    {
     "name": "stdout",
     "output_type": "stream",
     "text": [
      "Collecting gspread-dataframe\n",
      "  Downloading gspread_dataframe-3.3.0-py2.py3-none-any.whl (7.9 kB)\n",
      "Requirement already satisfied: six>=1.12.0 in c:\\users\\user\\anaconda3\\envs\\newenv\\lib\\site-packages (from gspread-dataframe) (1.16.0)\n",
      "Requirement already satisfied: pandas>=0.24.0 in c:\\users\\user\\anaconda3\\envs\\newenv\\lib\\site-packages (from gspread-dataframe) (1.4.2)\n",
      "Requirement already satisfied: gspread>=3.0.0 in c:\\users\\user\\anaconda3\\envs\\newenv\\lib\\site-packages (from gspread-dataframe) (5.6.2)\n",
      "Requirement already satisfied: google-auth-oauthlib>=0.4.1 in c:\\users\\user\\anaconda3\\envs\\newenv\\lib\\site-packages (from gspread>=3.0.0->gspread-dataframe) (0.4.1)\n",
      "Requirement already satisfied: google-auth>=1.12.0 in c:\\users\\user\\anaconda3\\envs\\newenv\\lib\\site-packages (from gspread>=3.0.0->gspread-dataframe) (2.6.0)\n",
      "Requirement already satisfied: pyasn1-modules>=0.2.1 in c:\\users\\user\\anaconda3\\envs\\newenv\\lib\\site-packages (from google-auth>=1.12.0->gspread>=3.0.0->gspread-dataframe) (0.2.8)\n",
      "Requirement already satisfied: rsa<5,>=3.1.4 in c:\\users\\user\\anaconda3\\envs\\newenv\\lib\\site-packages (from google-auth>=1.12.0->gspread>=3.0.0->gspread-dataframe) (4.7.2)\n",
      "Requirement already satisfied: cachetools<6.0,>=2.0.0 in c:\\users\\user\\anaconda3\\envs\\newenv\\lib\\site-packages (from google-auth>=1.12.0->gspread>=3.0.0->gspread-dataframe) (4.2.2)\n",
      "Requirement already satisfied: requests-oauthlib>=0.7.0 in c:\\users\\user\\anaconda3\\envs\\newenv\\lib\\site-packages (from google-auth-oauthlib>=0.4.1->gspread>=3.0.0->gspread-dataframe) (1.3.0)\n",
      "Requirement already satisfied: numpy>=1.18.5 in c:\\users\\user\\anaconda3\\envs\\newenv\\lib\\site-packages (from pandas>=0.24.0->gspread-dataframe) (1.22.3)\n",
      "Requirement already satisfied: python-dateutil>=2.8.1 in c:\\users\\user\\anaconda3\\envs\\newenv\\lib\\site-packages (from pandas>=0.24.0->gspread-dataframe) (2.8.2)\n",
      "Requirement already satisfied: pytz>=2020.1 in c:\\users\\user\\anaconda3\\envs\\newenv\\lib\\site-packages (from pandas>=0.24.0->gspread-dataframe) (2022.1)\n",
      "Requirement already satisfied: pyasn1<0.5.0,>=0.4.6 in c:\\users\\user\\anaconda3\\envs\\newenv\\lib\\site-packages (from pyasn1-modules>=0.2.1->google-auth>=1.12.0->gspread>=3.0.0->gspread-dataframe) (0.4.8)\n",
      "Requirement already satisfied: oauthlib>=3.0.0 in c:\\users\\user\\anaconda3\\envs\\newenv\\lib\\site-packages (from requests-oauthlib>=0.7.0->google-auth-oauthlib>=0.4.1->gspread>=3.0.0->gspread-dataframe) (3.2.0)\n",
      "Requirement already satisfied: requests>=2.0.0 in c:\\users\\user\\anaconda3\\envs\\newenv\\lib\\site-packages (from requests-oauthlib>=0.7.0->google-auth-oauthlib>=0.4.1->gspread>=3.0.0->gspread-dataframe) (2.27.1)\n",
      "Requirement already satisfied: charset-normalizer~=2.0.0 in c:\\users\\user\\anaconda3\\envs\\newenv\\lib\\site-packages (from requests>=2.0.0->requests-oauthlib>=0.7.0->google-auth-oauthlib>=0.4.1->gspread>=3.0.0->gspread-dataframe) (2.0.4)\n",
      "Requirement already satisfied: idna<4,>=2.5 in c:\\users\\user\\anaconda3\\envs\\newenv\\lib\\site-packages (from requests>=2.0.0->requests-oauthlib>=0.7.0->google-auth-oauthlib>=0.4.1->gspread>=3.0.0->gspread-dataframe) (3.3)\n",
      "Requirement already satisfied: certifi>=2017.4.17 in c:\\users\\user\\anaconda3\\envs\\newenv\\lib\\site-packages (from requests>=2.0.0->requests-oauthlib>=0.7.0->google-auth-oauthlib>=0.4.1->gspread>=3.0.0->gspread-dataframe) (2022.9.24)\n",
      "Requirement already satisfied: urllib3<1.27,>=1.21.1 in c:\\users\\user\\anaconda3\\envs\\newenv\\lib\\site-packages (from requests>=2.0.0->requests-oauthlib>=0.7.0->google-auth-oauthlib>=0.4.1->gspread>=3.0.0->gspread-dataframe) (1.26.9)\n",
      "Installing collected packages: gspread-dataframe\n",
      "Successfully installed gspread-dataframe-3.3.0\n",
      "Note: you may need to restart the kernel to use updated packages.\n"
     ]
    }
   ],
   "source": [
    "pip install gspread-dataframe"
   ]
  },
  {
   "cell_type": "code",
   "execution_count": 32,
   "id": "a8992fd6",
   "metadata": {},
   "outputs": [],
   "source": [
    "train_test_path = '../EVAC-master/Data/train_test.csv'\n"
   ]
  },
  {
   "cell_type": "markdown",
   "id": "6e1d77c7",
   "metadata": {},
   "source": []
  },
  {
   "cell_type": "code",
   "execution_count": 9,
   "id": "74ed8b5b",
   "metadata": {},
   "outputs": [],
   "source": [
    "poi_df = pd.read_csv('../EVAC-master/Data/Points_of_Interest.csv')"
   ]
  },
  {
   "cell_type": "markdown",
   "id": "84843a1a",
   "metadata": {},
   "source": [
    "# Point of Interest Data Code"
   ]
  },
  {
   "cell_type": "code",
   "execution_count": 10,
   "id": "84ca04ed",
   "metadata": {},
   "outputs": [
    {
     "data": {
      "text/html": [
       "<div>\n",
       "<style scoped>\n",
       "    .dataframe tbody tr th:only-of-type {\n",
       "        vertical-align: middle;\n",
       "    }\n",
       "\n",
       "    .dataframe tbody tr th {\n",
       "        vertical-align: top;\n",
       "    }\n",
       "\n",
       "    .dataframe thead th {\n",
       "        text-align: right;\n",
       "    }\n",
       "</style>\n",
       "<table border=\"1\" class=\"dataframe\">\n",
       "  <thead>\n",
       "    <tr style=\"text-align: right;\">\n",
       "      <th></th>\n",
       "      <th>X</th>\n",
       "      <th>Y</th>\n",
       "      <th>OBJECTID</th>\n",
       "      <th>COLS_KEY</th>\n",
       "      <th>LSN</th>\n",
       "      <th>POI_NAME</th>\n",
       "      <th>POI_TYPE</th>\n",
       "      <th>POI_SOURCE</th>\n",
       "      <th>PRIMARY</th>\n",
       "      <th>ALT_GEOM</th>\n",
       "      <th>PHONE_NUM</th>\n",
       "      <th>GLOBALID</th>\n",
       "      <th>WEBSITE</th>\n",
       "      <th>OB_GYN</th>\n",
       "      <th>PEDIATRICS</th>\n",
       "      <th>PRIMARY_CARE</th>\n",
       "    </tr>\n",
       "  </thead>\n",
       "  <tbody>\n",
       "    <tr>\n",
       "      <th>0</th>\n",
       "      <td>-83.112629</td>\n",
       "      <td>40.006321</td>\n",
       "      <td>5787325</td>\n",
       "      <td>626098.0</td>\n",
       "      <td>3750 ZANE TRACE DR</td>\n",
       "      <td>Pet Brands</td>\n",
       "      <td>Industrial - Warehouse</td>\n",
       "      <td>NaN</td>\n",
       "      <td>Yes</td>\n",
       "      <td>Yes</td>\n",
       "      <td>NaN</td>\n",
       "      <td>{2D626609-391A-4BB2-B33E-DEF58FD576EE}</td>\n",
       "      <td>NaN</td>\n",
       "      <td>NaN</td>\n",
       "      <td>NaN</td>\n",
       "      <td>NaN</td>\n",
       "    </tr>\n",
       "    <tr>\n",
       "      <th>1</th>\n",
       "      <td>-83.059869</td>\n",
       "      <td>40.052299</td>\n",
       "      <td>5787326</td>\n",
       "      <td>586262.0</td>\n",
       "      <td>1520 OLD HENDERSON RD</td>\n",
       "      <td>The Breathing Association</td>\n",
       "      <td>Medical - Other</td>\n",
       "      <td>NaN</td>\n",
       "      <td>No</td>\n",
       "      <td>Yes</td>\n",
       "      <td>614-457-4570</td>\n",
       "      <td>{2397A8D6-753F-4D01-A40A-E1B5E940CD92}</td>\n",
       "      <td>http://www.breathingassociation.org/</td>\n",
       "      <td>NaN</td>\n",
       "      <td>NaN</td>\n",
       "      <td>NaN</td>\n",
       "    </tr>\n",
       "    <tr>\n",
       "      <th>2</th>\n",
       "      <td>-82.978142</td>\n",
       "      <td>40.061762</td>\n",
       "      <td>5787327</td>\n",
       "      <td>811713.0</td>\n",
       "      <td>4661 KARL RD</td>\n",
       "      <td>Fresenius Kidney Care Central Ohio Dialysis</td>\n",
       "      <td>Medical - Other</td>\n",
       "      <td>NaN</td>\n",
       "      <td>Yes</td>\n",
       "      <td>Yes</td>\n",
       "      <td>6148400012</td>\n",
       "      <td>{24AF2DF8-3221-43B5-A611-7768F1EB201E}</td>\n",
       "      <td>NaN</td>\n",
       "      <td>NaN</td>\n",
       "      <td>NaN</td>\n",
       "      <td>NaN</td>\n",
       "    </tr>\n",
       "    <tr>\n",
       "      <th>3</th>\n",
       "      <td>-82.994076</td>\n",
       "      <td>39.952413</td>\n",
       "      <td>5787328</td>\n",
       "      <td>233764.0</td>\n",
       "      <td>500 S 4TH ST  1</td>\n",
       "      <td>Advanced Auto Insurance Network</td>\n",
       "      <td>Office - Corporate</td>\n",
       "      <td>NaN</td>\n",
       "      <td>Yes</td>\n",
       "      <td>Yes</td>\n",
       "      <td>NaN</td>\n",
       "      <td>{61040209-31C6-4035-B835-80DAE70BB4BC}</td>\n",
       "      <td>NaN</td>\n",
       "      <td>NaN</td>\n",
       "      <td>NaN</td>\n",
       "      <td>NaN</td>\n",
       "    </tr>\n",
       "    <tr>\n",
       "      <th>4</th>\n",
       "      <td>-83.012750</td>\n",
       "      <td>39.956807</td>\n",
       "      <td>5787329</td>\n",
       "      <td>589438.0</td>\n",
       "      <td>185 MCDOWELL ST</td>\n",
       "      <td>All American Welding</td>\n",
       "      <td>Retail - Services</td>\n",
       "      <td>NaN</td>\n",
       "      <td>Yes</td>\n",
       "      <td>Yes</td>\n",
       "      <td>NaN</td>\n",
       "      <td>{2B36E5A7-8F4B-464D-9D49-8E053AFB321C}</td>\n",
       "      <td>NaN</td>\n",
       "      <td>NaN</td>\n",
       "      <td>NaN</td>\n",
       "      <td>NaN</td>\n",
       "    </tr>\n",
       "  </tbody>\n",
       "</table>\n",
       "</div>"
      ],
      "text/plain": [
       "           X          Y  OBJECTID  COLS_KEY                    LSN  \\\n",
       "0 -83.112629  40.006321   5787325  626098.0     3750 ZANE TRACE DR   \n",
       "1 -83.059869  40.052299   5787326  586262.0  1520 OLD HENDERSON RD   \n",
       "2 -82.978142  40.061762   5787327  811713.0           4661 KARL RD   \n",
       "3 -82.994076  39.952413   5787328  233764.0        500 S 4TH ST  1   \n",
       "4 -83.012750  39.956807   5787329  589438.0        185 MCDOWELL ST   \n",
       "\n",
       "                                      POI_NAME                POI_TYPE  \\\n",
       "0                                   Pet Brands  Industrial - Warehouse   \n",
       "1                    The Breathing Association         Medical - Other   \n",
       "2  Fresenius Kidney Care Central Ohio Dialysis         Medical - Other   \n",
       "3              Advanced Auto Insurance Network      Office - Corporate   \n",
       "4                         All American Welding       Retail - Services   \n",
       "\n",
       "  POI_SOURCE PRIMARY ALT_GEOM     PHONE_NUM  \\\n",
       "0        NaN     Yes      Yes           NaN   \n",
       "1        NaN      No      Yes  614-457-4570   \n",
       "2        NaN     Yes      Yes    6148400012   \n",
       "3        NaN     Yes      Yes           NaN   \n",
       "4        NaN     Yes      Yes           NaN   \n",
       "\n",
       "                                 GLOBALID  \\\n",
       "0  {2D626609-391A-4BB2-B33E-DEF58FD576EE}   \n",
       "1  {2397A8D6-753F-4D01-A40A-E1B5E940CD92}   \n",
       "2  {24AF2DF8-3221-43B5-A611-7768F1EB201E}   \n",
       "3  {61040209-31C6-4035-B835-80DAE70BB4BC}   \n",
       "4  {2B36E5A7-8F4B-464D-9D49-8E053AFB321C}   \n",
       "\n",
       "                                WEBSITE OB_GYN PEDIATRICS PRIMARY_CARE  \n",
       "0                                   NaN    NaN        NaN          NaN  \n",
       "1  http://www.breathingassociation.org/    NaN        NaN          NaN  \n",
       "2                                   NaN    NaN        NaN          NaN  \n",
       "3                                   NaN    NaN        NaN          NaN  \n",
       "4                                   NaN    NaN        NaN          NaN  "
      ]
     },
     "execution_count": 10,
     "metadata": {},
     "output_type": "execute_result"
    }
   ],
   "source": [
    "poi_df.head()"
   ]
  },
  {
   "cell_type": "code",
   "execution_count": 11,
   "id": "53ba7f1a",
   "metadata": {},
   "outputs": [
    {
     "data": {
      "text/plain": [
       "(14619, 16)"
      ]
     },
     "execution_count": 11,
     "metadata": {},
     "output_type": "execute_result"
    }
   ],
   "source": [
    "poi_df.shape"
   ]
  },
  {
   "cell_type": "code",
   "execution_count": 12,
   "id": "197582c8",
   "metadata": {},
   "outputs": [
    {
     "data": {
      "text/plain": [
       "Index(['X', 'Y', 'OBJECTID', 'COLS_KEY', 'LSN', 'POI_NAME', 'POI_TYPE',\n",
       "       'POI_SOURCE', 'PRIMARY', 'ALT_GEOM', 'PHONE_NUM', 'GLOBALID', 'WEBSITE',\n",
       "       'OB_GYN', 'PEDIATRICS', 'PRIMARY_CARE'],\n",
       "      dtype='object')"
      ]
     },
     "execution_count": 12,
     "metadata": {},
     "output_type": "execute_result"
    }
   ],
   "source": [
    "poi_df.columns"
   ]
  },
  {
   "cell_type": "code",
   "execution_count": 13,
   "id": "52e3f44b",
   "metadata": {},
   "outputs": [
    {
     "data": {
      "text/plain": [
       "X                   1\n",
       "Y                   1\n",
       "OBJECTID            0\n",
       "COLS_KEY          361\n",
       "LSN                82\n",
       "POI_NAME            8\n",
       "POI_TYPE            8\n",
       "POI_SOURCE      12914\n",
       "PRIMARY             2\n",
       "ALT_GEOM            0\n",
       "PHONE_NUM       12615\n",
       "GLOBALID            0\n",
       "WEBSITE         14076\n",
       "OB_GYN          14517\n",
       "PEDIATRICS      14526\n",
       "PRIMARY_CARE    14481\n",
       "dtype: int64"
      ]
     },
     "execution_count": 13,
     "metadata": {},
     "output_type": "execute_result"
    }
   ],
   "source": [
    "poi_df.isnull().sum()"
   ]
  },
  {
   "cell_type": "code",
   "execution_count": 14,
   "id": "5c1054bc",
   "metadata": {},
   "outputs": [],
   "source": [
    "poi_df = poi_df.drop(['POI_SOURCE', 'WEBSITE', 'OB_GYN', 'PEDIATRICS', 'PRIMARY_CARE'], axis=1)"
   ]
  },
  {
   "cell_type": "code",
   "execution_count": 15,
   "id": "281e2a22",
   "metadata": {},
   "outputs": [
    {
     "data": {
      "text/plain": [
       "X                1\n",
       "Y                1\n",
       "OBJECTID         0\n",
       "COLS_KEY       361\n",
       "LSN             82\n",
       "POI_NAME         8\n",
       "POI_TYPE         8\n",
       "PRIMARY          2\n",
       "ALT_GEOM         0\n",
       "PHONE_NUM    12615\n",
       "GLOBALID         0\n",
       "dtype: int64"
      ]
     },
     "execution_count": 15,
     "metadata": {},
     "output_type": "execute_result"
    }
   ],
   "source": [
    "poi_df.isnull().sum()"
   ]
  },
  {
   "cell_type": "code",
   "execution_count": 7,
   "id": "8d591f17",
   "metadata": {},
   "outputs": [
    {
     "data": {
      "text/html": [
       "<div>\n",
       "<style scoped>\n",
       "    .dataframe tbody tr th:only-of-type {\n",
       "        vertical-align: middle;\n",
       "    }\n",
       "\n",
       "    .dataframe tbody tr th {\n",
       "        vertical-align: top;\n",
       "    }\n",
       "\n",
       "    .dataframe thead th {\n",
       "        text-align: right;\n",
       "    }\n",
       "</style>\n",
       "<table border=\"1\" class=\"dataframe\">\n",
       "  <thead>\n",
       "    <tr style=\"text-align: right;\">\n",
       "      <th></th>\n",
       "      <th>X</th>\n",
       "      <th>Y</th>\n",
       "      <th>OBJECTID</th>\n",
       "      <th>COLS_KEY</th>\n",
       "      <th>LSN</th>\n",
       "      <th>POI_NAME</th>\n",
       "      <th>POI_TYPE</th>\n",
       "      <th>PRIMARY</th>\n",
       "      <th>ALT_GEOM</th>\n",
       "      <th>PHONE_NUM</th>\n",
       "      <th>GLOBALID</th>\n",
       "    </tr>\n",
       "  </thead>\n",
       "  <tbody>\n",
       "    <tr>\n",
       "      <th>0</th>\n",
       "      <td>-83.112629</td>\n",
       "      <td>40.006321</td>\n",
       "      <td>5787325</td>\n",
       "      <td>626098.0</td>\n",
       "      <td>3750 ZANE TRACE DR</td>\n",
       "      <td>Pet Brands</td>\n",
       "      <td>Industrial - Warehouse</td>\n",
       "      <td>Yes</td>\n",
       "      <td>Yes</td>\n",
       "      <td>NaN</td>\n",
       "      <td>{2D626609-391A-4BB2-B33E-DEF58FD576EE}</td>\n",
       "    </tr>\n",
       "    <tr>\n",
       "      <th>1</th>\n",
       "      <td>-83.059869</td>\n",
       "      <td>40.052299</td>\n",
       "      <td>5787326</td>\n",
       "      <td>586262.0</td>\n",
       "      <td>1520 OLD HENDERSON RD</td>\n",
       "      <td>The Breathing Association</td>\n",
       "      <td>Medical - Other</td>\n",
       "      <td>No</td>\n",
       "      <td>Yes</td>\n",
       "      <td>614-457-4570</td>\n",
       "      <td>{2397A8D6-753F-4D01-A40A-E1B5E940CD92}</td>\n",
       "    </tr>\n",
       "    <tr>\n",
       "      <th>2</th>\n",
       "      <td>-82.978142</td>\n",
       "      <td>40.061762</td>\n",
       "      <td>5787327</td>\n",
       "      <td>811713.0</td>\n",
       "      <td>4661 KARL RD</td>\n",
       "      <td>Fresenius Kidney Care Central Ohio Dialysis</td>\n",
       "      <td>Medical - Other</td>\n",
       "      <td>Yes</td>\n",
       "      <td>Yes</td>\n",
       "      <td>6148400012</td>\n",
       "      <td>{24AF2DF8-3221-43B5-A611-7768F1EB201E}</td>\n",
       "    </tr>\n",
       "    <tr>\n",
       "      <th>3</th>\n",
       "      <td>-82.994076</td>\n",
       "      <td>39.952413</td>\n",
       "      <td>5787328</td>\n",
       "      <td>233764.0</td>\n",
       "      <td>500 S 4TH ST  1</td>\n",
       "      <td>Advanced Auto Insurance Network</td>\n",
       "      <td>Office - Corporate</td>\n",
       "      <td>Yes</td>\n",
       "      <td>Yes</td>\n",
       "      <td>NaN</td>\n",
       "      <td>{61040209-31C6-4035-B835-80DAE70BB4BC}</td>\n",
       "    </tr>\n",
       "    <tr>\n",
       "      <th>4</th>\n",
       "      <td>-83.012750</td>\n",
       "      <td>39.956807</td>\n",
       "      <td>5787329</td>\n",
       "      <td>589438.0</td>\n",
       "      <td>185 MCDOWELL ST</td>\n",
       "      <td>All American Welding</td>\n",
       "      <td>Retail - Services</td>\n",
       "      <td>Yes</td>\n",
       "      <td>Yes</td>\n",
       "      <td>NaN</td>\n",
       "      <td>{2B36E5A7-8F4B-464D-9D49-8E053AFB321C}</td>\n",
       "    </tr>\n",
       "  </tbody>\n",
       "</table>\n",
       "</div>"
      ],
      "text/plain": [
       "           X          Y  OBJECTID  COLS_KEY                    LSN  \\\n",
       "0 -83.112629  40.006321   5787325  626098.0     3750 ZANE TRACE DR   \n",
       "1 -83.059869  40.052299   5787326  586262.0  1520 OLD HENDERSON RD   \n",
       "2 -82.978142  40.061762   5787327  811713.0           4661 KARL RD   \n",
       "3 -82.994076  39.952413   5787328  233764.0        500 S 4TH ST  1   \n",
       "4 -83.012750  39.956807   5787329  589438.0        185 MCDOWELL ST   \n",
       "\n",
       "                                      POI_NAME                POI_TYPE  \\\n",
       "0                                   Pet Brands  Industrial - Warehouse   \n",
       "1                    The Breathing Association         Medical - Other   \n",
       "2  Fresenius Kidney Care Central Ohio Dialysis         Medical - Other   \n",
       "3              Advanced Auto Insurance Network      Office - Corporate   \n",
       "4                         All American Welding       Retail - Services   \n",
       "\n",
       "  PRIMARY ALT_GEOM     PHONE_NUM                                GLOBALID  \n",
       "0     Yes      Yes           NaN  {2D626609-391A-4BB2-B33E-DEF58FD576EE}  \n",
       "1      No      Yes  614-457-4570  {2397A8D6-753F-4D01-A40A-E1B5E940CD92}  \n",
       "2     Yes      Yes    6148400012  {24AF2DF8-3221-43B5-A611-7768F1EB201E}  \n",
       "3     Yes      Yes           NaN  {61040209-31C6-4035-B835-80DAE70BB4BC}  \n",
       "4     Yes      Yes           NaN  {2B36E5A7-8F4B-464D-9D49-8E053AFB321C}  "
      ]
     },
     "execution_count": 7,
     "metadata": {},
     "output_type": "execute_result"
    }
   ],
   "source": [
    "poi_df.head()"
   ]
  },
  {
   "cell_type": "code",
   "execution_count": 16,
   "id": "f90b15d4",
   "metadata": {},
   "outputs": [],
   "source": [
    "zeros = ['Emergency', 'Medical', 'Industrial']\n",
    "ones = ['Government', 'Group Quarters', 'Education']\n",
    "twos = ['Transportation', 'Public Places', 'Retail', 'Office']"
   ]
  },
  {
   "cell_type": "code",
   "execution_count": 17,
   "id": "8570d884",
   "metadata": {},
   "outputs": [],
   "source": [
    "poi = poi_df[['X', 'Y', 'POI_TYPE']].copy()"
   ]
  },
  {
   "cell_type": "code",
   "execution_count": 18,
   "id": "c99296dc",
   "metadata": {},
   "outputs": [
    {
     "data": {
      "text/html": [
       "<div>\n",
       "<style scoped>\n",
       "    .dataframe tbody tr th:only-of-type {\n",
       "        vertical-align: middle;\n",
       "    }\n",
       "\n",
       "    .dataframe tbody tr th {\n",
       "        vertical-align: top;\n",
       "    }\n",
       "\n",
       "    .dataframe thead th {\n",
       "        text-align: right;\n",
       "    }\n",
       "</style>\n",
       "<table border=\"1\" class=\"dataframe\">\n",
       "  <thead>\n",
       "    <tr style=\"text-align: right;\">\n",
       "      <th></th>\n",
       "      <th>X</th>\n",
       "      <th>Y</th>\n",
       "      <th>POI_TYPE</th>\n",
       "    </tr>\n",
       "  </thead>\n",
       "  <tbody>\n",
       "    <tr>\n",
       "      <th>0</th>\n",
       "      <td>-83.112629</td>\n",
       "      <td>40.006321</td>\n",
       "      <td>Industrial - Warehouse</td>\n",
       "    </tr>\n",
       "    <tr>\n",
       "      <th>1</th>\n",
       "      <td>-83.059869</td>\n",
       "      <td>40.052299</td>\n",
       "      <td>Medical - Other</td>\n",
       "    </tr>\n",
       "    <tr>\n",
       "      <th>2</th>\n",
       "      <td>-82.978142</td>\n",
       "      <td>40.061762</td>\n",
       "      <td>Medical - Other</td>\n",
       "    </tr>\n",
       "    <tr>\n",
       "      <th>3</th>\n",
       "      <td>-82.994076</td>\n",
       "      <td>39.952413</td>\n",
       "      <td>Office - Corporate</td>\n",
       "    </tr>\n",
       "    <tr>\n",
       "      <th>4</th>\n",
       "      <td>-83.012750</td>\n",
       "      <td>39.956807</td>\n",
       "      <td>Retail - Services</td>\n",
       "    </tr>\n",
       "  </tbody>\n",
       "</table>\n",
       "</div>"
      ],
      "text/plain": [
       "           X          Y                POI_TYPE\n",
       "0 -83.112629  40.006321  Industrial - Warehouse\n",
       "1 -83.059869  40.052299         Medical - Other\n",
       "2 -82.978142  40.061762         Medical - Other\n",
       "3 -82.994076  39.952413      Office - Corporate\n",
       "4 -83.012750  39.956807       Retail - Services"
      ]
     },
     "execution_count": 18,
     "metadata": {},
     "output_type": "execute_result"
    }
   ],
   "source": [
    "poi.head()"
   ]
  },
  {
   "cell_type": "code",
   "execution_count": 19,
   "id": "c6d08b9f",
   "metadata": {},
   "outputs": [
    {
     "data": {
      "text/plain": [
       "Retail - Commercial/Retail           2688\n",
       "Retail - Restaurant                  2405\n",
       "Retail - Services                    2384\n",
       "Office - Corporate                   1291\n",
       "Public Places - House of Worship      645\n",
       "                                     ... \n",
       "Public Places - Convention Center       3\n",
       "Government - Prison/Correctional        3\n",
       "Industrial - Quarry                     2\n",
       "Public Places - Fairgrounds             1\n",
       "Emergency Response - Other              1\n",
       "Name: POI_TYPE, Length: 73, dtype: int64"
      ]
     },
     "execution_count": 19,
     "metadata": {},
     "output_type": "execute_result"
    }
   ],
   "source": [
    "poi['POI_TYPE'].value_counts()"
   ]
  },
  {
   "cell_type": "code",
   "execution_count": 20,
   "id": "2ce91ffc",
   "metadata": {},
   "outputs": [
    {
     "data": {
      "text/plain": [
       "array(['Industrial - Warehouse', 'Medical - Other', 'Office - Corporate',\n",
       "       'Retail - Services', 'Education - Elementary',\n",
       "       'Industrial - Water Treatment Plant', 'Office - Non-Profit',\n",
       "       'Retail - Commercial/Retail', 'Public Places - House of Worship',\n",
       "       'Retail - Shopping Center-Neighborhood', 'Retail - Gas Station',\n",
       "       'Retail - Restaurant', 'Retail - Shopping Center-Community',\n",
       "       'Transportation - Parking Lot/Garage', 'Education - High',\n",
       "       'Education - College/University', 'Group Quarters - Dormitory',\n",
       "       \"Medical - Women's Health\", 'Medical - Physician',\n",
       "       'Medical - Research/Laboratory', 'Transportation - Bus',\n",
       "       'Medical - Dental', 'Medical - Veterinary',\n",
       "       'Emergency Response - Police', 'Transportation - Other',\n",
       "       'Public Places - Community/Recreation Center',\n",
       "       'Retail - Specialty Food', 'Education - Other',\n",
       "       'Retail - Fitness Center', 'Retail - Mixed Use',\n",
       "       'Public Places - Arena/Stadium',\n",
       "       'Medical - Hospital/Medical Center',\n",
       "       'Retail - Shopping Center-Regional', 'Office - Bank',\n",
       "       'Industrial - Manufacturing', 'Medical - Clinic',\n",
       "       'Emergency Response - Fire/EMS',\n",
       "       'Group Quarters - Assisted Living', 'Public Places - Museum',\n",
       "       'Retail - Hotel/Motel', 'Government - State',\n",
       "       'Retail - Convenience Store', 'Industrial - Other',\n",
       "       'Public Places - Historic Site', 'Public Places - Other',\n",
       "       'Retail - Department Store', 'Education - Middle',\n",
       "       'Public Places - Fairgrounds', 'Education - Daycare',\n",
       "       'Education - Vocational', nan, 'Retail - Grocery',\n",
       "       'Public Places - Cemetery', 'Public Places - Theater/Concert Hall',\n",
       "       'Industrial - Wastewater Treatment Plant', 'Government - City',\n",
       "       'Government - Post Office', 'Government - Federal',\n",
       "       'Industrial - Landfill', 'Industrial - Electric Substation',\n",
       "       'Government - County', 'Industrial - Mail/Shipping',\n",
       "       'Group Quarters - Nursing Home', 'Transportation - Airport',\n",
       "       'Group Quarters - Shelter', 'Public Places - Library',\n",
       "       'Industrial - Industrial Park', 'Government - Military',\n",
       "       'Transportation - Rail', 'Public Places - Convention Center',\n",
       "       'Government - Prison/Correctional', 'Public Places - Golf Course',\n",
       "       'Industrial - Quarry', 'Emergency Response - Other'], dtype=object)"
      ]
     },
     "execution_count": 20,
     "metadata": {},
     "output_type": "execute_result"
    }
   ],
   "source": [
    "poi['POI_TYPE'].unique()"
   ]
  },
  {
   "cell_type": "code",
   "execution_count": 21,
   "id": "39a88f4f",
   "metadata": {},
   "outputs": [],
   "source": [
    "# match all strings = 'category - subcategory' and remove the part immediately following the\n",
    "# '-' to end with 'category'\n",
    "\n",
    "new_poi = poi.replace(to_replace=r' - .*', value='', regex=True)"
   ]
  },
  {
   "cell_type": "code",
   "execution_count": 23,
   "id": "ac2277e9",
   "metadata": {},
   "outputs": [
    {
     "data": {
      "text/plain": [
       "array(['Industrial', 'Medical', 'Office', 'Retail', 'Education',\n",
       "       'Public Places', 'Transportation', 'Group Quarters',\n",
       "       'Emergency Response', 'Government', nan], dtype=object)"
      ]
     },
     "execution_count": 23,
     "metadata": {},
     "output_type": "execute_result"
    }
   ],
   "source": [
    "new_poi['POI_TYPE'].unique()"
   ]
  },
  {
   "cell_type": "code",
   "execution_count": 25,
   "id": "2e19052f",
   "metadata": {},
   "outputs": [],
   "source": [
    "new_poi['Classification'] = new_poi['POI_TYPE']\n",
    "new_poi['Classification'].replace({'Emergency': 0, 'Medical': 0, 'Industrial': 0, 'Government': 1, \n",
    "                                             'Group Quarters': 1, 'Education': 1, 'Transportation': 2, \n",
    "                                             'Public Places': 2, 'Retail': 2, 'Office': 2}, inplace=True)\n"
   ]
  },
  {
   "cell_type": "code",
   "execution_count": 26,
   "id": "aa6a5be0",
   "metadata": {},
   "outputs": [
    {
     "data": {
      "text/html": [
       "<div>\n",
       "<style scoped>\n",
       "    .dataframe tbody tr th:only-of-type {\n",
       "        vertical-align: middle;\n",
       "    }\n",
       "\n",
       "    .dataframe tbody tr th {\n",
       "        vertical-align: top;\n",
       "    }\n",
       "\n",
       "    .dataframe thead th {\n",
       "        text-align: right;\n",
       "    }\n",
       "</style>\n",
       "<table border=\"1\" class=\"dataframe\">\n",
       "  <thead>\n",
       "    <tr style=\"text-align: right;\">\n",
       "      <th></th>\n",
       "      <th>X</th>\n",
       "      <th>Y</th>\n",
       "      <th>POI_TYPE</th>\n",
       "      <th>Classification</th>\n",
       "    </tr>\n",
       "  </thead>\n",
       "  <tbody>\n",
       "    <tr>\n",
       "      <th>0</th>\n",
       "      <td>-83.112629</td>\n",
       "      <td>40.006321</td>\n",
       "      <td>Industrial</td>\n",
       "      <td>0</td>\n",
       "    </tr>\n",
       "    <tr>\n",
       "      <th>1</th>\n",
       "      <td>-83.059869</td>\n",
       "      <td>40.052299</td>\n",
       "      <td>Medical</td>\n",
       "      <td>0</td>\n",
       "    </tr>\n",
       "    <tr>\n",
       "      <th>2</th>\n",
       "      <td>-82.978142</td>\n",
       "      <td>40.061762</td>\n",
       "      <td>Medical</td>\n",
       "      <td>0</td>\n",
       "    </tr>\n",
       "    <tr>\n",
       "      <th>3</th>\n",
       "      <td>-82.994076</td>\n",
       "      <td>39.952413</td>\n",
       "      <td>Office</td>\n",
       "      <td>2</td>\n",
       "    </tr>\n",
       "    <tr>\n",
       "      <th>4</th>\n",
       "      <td>-83.012750</td>\n",
       "      <td>39.956807</td>\n",
       "      <td>Retail</td>\n",
       "      <td>2</td>\n",
       "    </tr>\n",
       "  </tbody>\n",
       "</table>\n",
       "</div>"
      ],
      "text/plain": [
       "           X          Y    POI_TYPE Classification\n",
       "0 -83.112629  40.006321  Industrial              0\n",
       "1 -83.059869  40.052299     Medical              0\n",
       "2 -82.978142  40.061762     Medical              0\n",
       "3 -82.994076  39.952413      Office              2\n",
       "4 -83.012750  39.956807      Retail              2"
      ]
     },
     "execution_count": 26,
     "metadata": {},
     "output_type": "execute_result"
    }
   ],
   "source": [
    "new_poi.head()"
   ]
  },
  {
   "cell_type": "code",
   "execution_count": 34,
   "id": "1bed796b",
   "metadata": {},
   "outputs": [
    {
     "data": {
      "text/html": [
       "<div>\n",
       "<style scoped>\n",
       "    .dataframe tbody tr th:only-of-type {\n",
       "        vertical-align: middle;\n",
       "    }\n",
       "\n",
       "    .dataframe tbody tr th {\n",
       "        vertical-align: top;\n",
       "    }\n",
       "\n",
       "    .dataframe thead th {\n",
       "        text-align: right;\n",
       "    }\n",
       "</style>\n",
       "<table border=\"1\" class=\"dataframe\">\n",
       "  <thead>\n",
       "    <tr style=\"text-align: right;\">\n",
       "      <th></th>\n",
       "      <th>Latitude</th>\n",
       "      <th>Longitude</th>\n",
       "    </tr>\n",
       "  </thead>\n",
       "  <tbody>\n",
       "    <tr>\n",
       "      <th>0</th>\n",
       "      <td>40.057068</td>\n",
       "      <td>-82.885518</td>\n",
       "    </tr>\n",
       "    <tr>\n",
       "      <th>1</th>\n",
       "      <td>39.974166</td>\n",
       "      <td>-83.028720</td>\n",
       "    </tr>\n",
       "    <tr>\n",
       "      <th>2</th>\n",
       "      <td>39.963572</td>\n",
       "      <td>-83.002500</td>\n",
       "    </tr>\n",
       "    <tr>\n",
       "      <th>3</th>\n",
       "      <td>39.975215</td>\n",
       "      <td>-83.006780</td>\n",
       "    </tr>\n",
       "    <tr>\n",
       "      <th>4</th>\n",
       "      <td>40.073967</td>\n",
       "      <td>-83.131485</td>\n",
       "    </tr>\n",
       "  </tbody>\n",
       "</table>\n",
       "</div>"
      ],
      "text/plain": [
       "    Latitude  Longitude\n",
       "0  40.057068 -82.885518\n",
       "1  39.974166 -83.028720\n",
       "2  39.963572 -83.002500\n",
       "3  39.975215 -83.006780\n",
       "4  40.073967 -83.131485"
      ]
     },
     "execution_count": 34,
     "metadata": {},
     "output_type": "execute_result"
    }
   ],
   "source": [
    "traintest = pd.read_csv(train_test_path)\n",
    "traintest.head()"
   ]
  },
  {
   "cell_type": "code",
   "execution_count": 35,
   "id": "25e8076e",
   "metadata": {},
   "outputs": [],
   "source": [
    "distances = []\n",
    "classifications = []\n",
    "final_distances = []\n",
    "final_classifications = []\n",
    "\n",
    "# find matching coordinates with smallest distance\n",
    "def calc_smallest_dist_poi(comp):\n",
    "    d = []\n",
    "    c = []\n",
    "    outer = 0\n",
    "    while outer < len(traintest):\n",
    "        ctr = 0\n",
    "        smallest = np.inf\n",
    "        cls = 0 # 0, 1, or 2\n",
    "        while ctr < len(comp): # go through 15,000 rows\n",
    "            dist = np.sqrt(((traintest.loc[outer, 'Latitude'] - comp.loc[ctr, 'Y']) ** 2) + ((traintest.loc[outer, 'Longitude'] - comp.loc[ctr, 'X']) ** 2))\n",
    "            if dist < smallest:\n",
    "                smallest = dist\n",
    "                cls = comp.loc[ctr, 'Classification']\n",
    "            ctr += 1\n",
    "        d.append(smallest)\n",
    "        c.append(cls)\n",
    "        outer += 1\n",
    "    return (d, c)\n",
    "\n",
    "distances, classifications = calc_smallest_dist_poi(new_poi)\n",
    "\n",
    "# if dist < 1/69, leave as is, or it will be None (further than 1 mile)\n",
    "ctr = 0\n",
    "for i in distances:\n",
    "    if i < 1/69:\n",
    "        final_distances.append(i)\n",
    "        final_classifications.append(classifications[ctr])\n",
    "    else:\n",
    "        final_distances.append(None)\n",
    "        final_classifications.append(None)\n",
    "    ctr += 1\n",
    "\n",
    "# TODO: Add final_classifications as column in DF\n",
    "# final_classifications"
   ]
  },
  {
   "cell_type": "code",
   "execution_count": 36,
   "id": "d2beea5e",
   "metadata": {},
   "outputs": [
    {
     "data": {
      "text/html": [
       "<div>\n",
       "<style scoped>\n",
       "    .dataframe tbody tr th:only-of-type {\n",
       "        vertical-align: middle;\n",
       "    }\n",
       "\n",
       "    .dataframe tbody tr th {\n",
       "        vertical-align: top;\n",
       "    }\n",
       "\n",
       "    .dataframe thead th {\n",
       "        text-align: right;\n",
       "    }\n",
       "</style>\n",
       "<table border=\"1\" class=\"dataframe\">\n",
       "  <thead>\n",
       "    <tr style=\"text-align: right;\">\n",
       "      <th></th>\n",
       "      <th>Latitude</th>\n",
       "      <th>Longitude</th>\n",
       "    </tr>\n",
       "  </thead>\n",
       "  <tbody>\n",
       "    <tr>\n",
       "      <th>0</th>\n",
       "      <td>40.057068</td>\n",
       "      <td>-82.885518</td>\n",
       "    </tr>\n",
       "    <tr>\n",
       "      <th>1</th>\n",
       "      <td>39.974166</td>\n",
       "      <td>-83.028720</td>\n",
       "    </tr>\n",
       "    <tr>\n",
       "      <th>2</th>\n",
       "      <td>39.963572</td>\n",
       "      <td>-83.002500</td>\n",
       "    </tr>\n",
       "    <tr>\n",
       "      <th>3</th>\n",
       "      <td>39.975215</td>\n",
       "      <td>-83.006780</td>\n",
       "    </tr>\n",
       "    <tr>\n",
       "      <th>4</th>\n",
       "      <td>40.073967</td>\n",
       "      <td>-83.131485</td>\n",
       "    </tr>\n",
       "  </tbody>\n",
       "</table>\n",
       "</div>"
      ],
      "text/plain": [
       "    Latitude  Longitude\n",
       "0  40.057068 -82.885518\n",
       "1  39.974166 -83.028720\n",
       "2  39.963572 -83.002500\n",
       "3  39.975215 -83.006780\n",
       "4  40.073967 -83.131485"
      ]
     },
     "execution_count": 36,
     "metadata": {},
     "output_type": "execute_result"
    }
   ],
   "source": [
    "traintest.head()"
   ]
  },
  {
   "cell_type": "code",
   "execution_count": 38,
   "id": "f6784e5f",
   "metadata": {},
   "outputs": [
    {
     "data": {
      "text/plain": [
       "158"
      ]
     },
     "execution_count": 38,
     "metadata": {},
     "output_type": "execute_result"
    }
   ],
   "source": [
    "len(final_classifications)"
   ]
  },
  {
   "cell_type": "code",
   "execution_count": null,
   "id": "6a6624f2",
   "metadata": {},
   "outputs": [],
   "source": []
  },
  {
   "cell_type": "markdown",
   "id": "23176bd9",
   "metadata": {},
   "source": [
    "# Police Cam Data"
   ]
  },
  {
   "cell_type": "code",
   "execution_count": 52,
   "id": "6e11506c",
   "metadata": {},
   "outputs": [],
   "source": [
    "from math import sin, cos, sqrt, atan2, radians\n",
    "\n",
    "current_df = pd.read_csv(train_test_path)\n",
    "camera_df = pd.read_csv(\"../EVAC-master/Data/Police_Crime_Cameras.csv\")"
   ]
  },
  {
   "cell_type": "code",
   "execution_count": 41,
   "id": "0ef4806b",
   "metadata": {},
   "outputs": [
    {
     "data": {
      "text/html": [
       "<div>\n",
       "<style scoped>\n",
       "    .dataframe tbody tr th:only-of-type {\n",
       "        vertical-align: middle;\n",
       "    }\n",
       "\n",
       "    .dataframe tbody tr th {\n",
       "        vertical-align: top;\n",
       "    }\n",
       "\n",
       "    .dataframe thead th {\n",
       "        text-align: right;\n",
       "    }\n",
       "</style>\n",
       "<table border=\"1\" class=\"dataframe\">\n",
       "  <thead>\n",
       "    <tr style=\"text-align: right;\">\n",
       "      <th></th>\n",
       "      <th>X</th>\n",
       "      <th>Y</th>\n",
       "      <th>OBJECTID</th>\n",
       "      <th>CAMERA_ID</th>\n",
       "      <th>CAM_DESC</th>\n",
       "      <th>TYPE</th>\n",
       "      <th>LATITUDE</th>\n",
       "      <th>LONGITUDE</th>\n",
       "    </tr>\n",
       "  </thead>\n",
       "  <tbody>\n",
       "    <tr>\n",
       "      <th>0</th>\n",
       "      <td>-82.971216</td>\n",
       "      <td>39.943516</td>\n",
       "      <td>1026</td>\n",
       "      <td>461</td>\n",
       "      <td>E WHITTIER ST BETWEEN OHIO AND CHAMPION</td>\n",
       "      <td>LIVINGSTON</td>\n",
       "      <td>39.943509</td>\n",
       "      <td>-82.971212</td>\n",
       "    </tr>\n",
       "    <tr>\n",
       "      <th>1</th>\n",
       "      <td>-82.958077</td>\n",
       "      <td>39.949044</td>\n",
       "      <td>1033</td>\n",
       "      <td>496</td>\n",
       "      <td>E LIVINGSTON AVE / LILLEY AVE</td>\n",
       "      <td>LIVINGSTON</td>\n",
       "      <td>39.949036</td>\n",
       "      <td>-82.958072</td>\n",
       "    </tr>\n",
       "    <tr>\n",
       "      <th>2</th>\n",
       "      <td>-83.064391</td>\n",
       "      <td>39.955499</td>\n",
       "      <td>1038</td>\n",
       "      <td>531</td>\n",
       "      <td>W BROAD ST / S WAYNE AVE</td>\n",
       "      <td>HILLTOP</td>\n",
       "      <td>39.955491</td>\n",
       "      <td>-83.064386</td>\n",
       "    </tr>\n",
       "    <tr>\n",
       "      <th>3</th>\n",
       "      <td>-83.000410</td>\n",
       "      <td>39.989270</td>\n",
       "      <td>689</td>\n",
       "      <td>111</td>\n",
       "      <td>WEINLAND PARK ELEM SCHOOL - PTZ</td>\n",
       "      <td>WEINLAND PARK</td>\n",
       "      <td>39.989263</td>\n",
       "      <td>-83.000405</td>\n",
       "    </tr>\n",
       "    <tr>\n",
       "      <th>4</th>\n",
       "      <td>-83.007495</td>\n",
       "      <td>39.994205</td>\n",
       "      <td>695</td>\n",
       "      <td>171</td>\n",
       "      <td>ALLEY WEST OF HIGH ON 10TH AVE</td>\n",
       "      <td>WEINLAND PARK</td>\n",
       "      <td>39.994197</td>\n",
       "      <td>-83.007491</td>\n",
       "    </tr>\n",
       "  </tbody>\n",
       "</table>\n",
       "</div>"
      ],
      "text/plain": [
       "           X          Y  OBJECTID  CAMERA_ID  \\\n",
       "0 -82.971216  39.943516      1026        461   \n",
       "1 -82.958077  39.949044      1033        496   \n",
       "2 -83.064391  39.955499      1038        531   \n",
       "3 -83.000410  39.989270       689        111   \n",
       "4 -83.007495  39.994205       695        171   \n",
       "\n",
       "                                  CAM_DESC           TYPE   LATITUDE  \\\n",
       "0  E WHITTIER ST BETWEEN OHIO AND CHAMPION     LIVINGSTON  39.943509   \n",
       "1            E LIVINGSTON AVE / LILLEY AVE     LIVINGSTON  39.949036   \n",
       "2                 W BROAD ST / S WAYNE AVE        HILLTOP  39.955491   \n",
       "3          WEINLAND PARK ELEM SCHOOL - PTZ  WEINLAND PARK  39.989263   \n",
       "4           ALLEY WEST OF HIGH ON 10TH AVE  WEINLAND PARK  39.994197   \n",
       "\n",
       "   LONGITUDE  \n",
       "0 -82.971212  \n",
       "1 -82.958072  \n",
       "2 -83.064386  \n",
       "3 -83.000405  \n",
       "4 -83.007491  "
      ]
     },
     "execution_count": 41,
     "metadata": {},
     "output_type": "execute_result"
    }
   ],
   "source": [
    "camera_df.head()"
   ]
  },
  {
   "cell_type": "code",
   "execution_count": 42,
   "id": "3e9d3bfa",
   "metadata": {},
   "outputs": [
    {
     "data": {
      "text/plain": [
       "X            0\n",
       "Y            0\n",
       "OBJECTID     0\n",
       "CAMERA_ID    0\n",
       "CAM_DESC     0\n",
       "TYPE         0\n",
       "LATITUDE     0\n",
       "LONGITUDE    0\n",
       "dtype: int64"
      ]
     },
     "execution_count": 42,
     "metadata": {},
     "output_type": "execute_result"
    }
   ],
   "source": [
    "camera_df.isnull().sum()"
   ]
  },
  {
   "cell_type": "code",
   "execution_count": 43,
   "id": "74cc9e4a",
   "metadata": {},
   "outputs": [],
   "source": [
    "camera_df.dropna(axis=0, inplace=True)"
   ]
  },
  {
   "cell_type": "code",
   "execution_count": 44,
   "id": "c969ed5b",
   "metadata": {},
   "outputs": [
    {
     "data": {
      "text/html": [
       "<div>\n",
       "<style scoped>\n",
       "    .dataframe tbody tr th:only-of-type {\n",
       "        vertical-align: middle;\n",
       "    }\n",
       "\n",
       "    .dataframe tbody tr th {\n",
       "        vertical-align: top;\n",
       "    }\n",
       "\n",
       "    .dataframe thead th {\n",
       "        text-align: right;\n",
       "    }\n",
       "</style>\n",
       "<table border=\"1\" class=\"dataframe\">\n",
       "  <thead>\n",
       "    <tr style=\"text-align: right;\">\n",
       "      <th></th>\n",
       "      <th>X</th>\n",
       "      <th>Y</th>\n",
       "      <th>OBJECTID</th>\n",
       "      <th>CAMERA_ID</th>\n",
       "      <th>CAM_DESC</th>\n",
       "      <th>TYPE</th>\n",
       "      <th>LATITUDE</th>\n",
       "      <th>LONGITUDE</th>\n",
       "    </tr>\n",
       "  </thead>\n",
       "  <tbody>\n",
       "    <tr>\n",
       "      <th>0</th>\n",
       "      <td>-82.971216</td>\n",
       "      <td>39.943516</td>\n",
       "      <td>1026</td>\n",
       "      <td>461</td>\n",
       "      <td>E WHITTIER ST BETWEEN OHIO AND CHAMPION</td>\n",
       "      <td>LIVINGSTON</td>\n",
       "      <td>39.943509</td>\n",
       "      <td>-82.971212</td>\n",
       "    </tr>\n",
       "    <tr>\n",
       "      <th>1</th>\n",
       "      <td>-82.958077</td>\n",
       "      <td>39.949044</td>\n",
       "      <td>1033</td>\n",
       "      <td>496</td>\n",
       "      <td>E LIVINGSTON AVE / LILLEY AVE</td>\n",
       "      <td>LIVINGSTON</td>\n",
       "      <td>39.949036</td>\n",
       "      <td>-82.958072</td>\n",
       "    </tr>\n",
       "    <tr>\n",
       "      <th>2</th>\n",
       "      <td>-83.064391</td>\n",
       "      <td>39.955499</td>\n",
       "      <td>1038</td>\n",
       "      <td>531</td>\n",
       "      <td>W BROAD ST / S WAYNE AVE</td>\n",
       "      <td>HILLTOP</td>\n",
       "      <td>39.955491</td>\n",
       "      <td>-83.064386</td>\n",
       "    </tr>\n",
       "    <tr>\n",
       "      <th>3</th>\n",
       "      <td>-83.000410</td>\n",
       "      <td>39.989270</td>\n",
       "      <td>689</td>\n",
       "      <td>111</td>\n",
       "      <td>WEINLAND PARK ELEM SCHOOL - PTZ</td>\n",
       "      <td>WEINLAND PARK</td>\n",
       "      <td>39.989263</td>\n",
       "      <td>-83.000405</td>\n",
       "    </tr>\n",
       "    <tr>\n",
       "      <th>4</th>\n",
       "      <td>-83.007495</td>\n",
       "      <td>39.994205</td>\n",
       "      <td>695</td>\n",
       "      <td>171</td>\n",
       "      <td>ALLEY WEST OF HIGH ON 10TH AVE</td>\n",
       "      <td>WEINLAND PARK</td>\n",
       "      <td>39.994197</td>\n",
       "      <td>-83.007491</td>\n",
       "    </tr>\n",
       "  </tbody>\n",
       "</table>\n",
       "</div>"
      ],
      "text/plain": [
       "           X          Y  OBJECTID  CAMERA_ID  \\\n",
       "0 -82.971216  39.943516      1026        461   \n",
       "1 -82.958077  39.949044      1033        496   \n",
       "2 -83.064391  39.955499      1038        531   \n",
       "3 -83.000410  39.989270       689        111   \n",
       "4 -83.007495  39.994205       695        171   \n",
       "\n",
       "                                  CAM_DESC           TYPE   LATITUDE  \\\n",
       "0  E WHITTIER ST BETWEEN OHIO AND CHAMPION     LIVINGSTON  39.943509   \n",
       "1            E LIVINGSTON AVE / LILLEY AVE     LIVINGSTON  39.949036   \n",
       "2                 W BROAD ST / S WAYNE AVE        HILLTOP  39.955491   \n",
       "3          WEINLAND PARK ELEM SCHOOL - PTZ  WEINLAND PARK  39.989263   \n",
       "4           ALLEY WEST OF HIGH ON 10TH AVE  WEINLAND PARK  39.994197   \n",
       "\n",
       "   LONGITUDE  \n",
       "0 -82.971212  \n",
       "1 -82.958072  \n",
       "2 -83.064386  \n",
       "3 -83.000405  \n",
       "4 -83.007491  "
      ]
     },
     "execution_count": 44,
     "metadata": {},
     "output_type": "execute_result"
    }
   ],
   "source": [
    "camera_df.head()"
   ]
  },
  {
   "cell_type": "code",
   "execution_count": null,
   "id": "b60b23d1",
   "metadata": {},
   "outputs": [],
   "source": []
  },
  {
   "cell_type": "code",
   "execution_count": null,
   "id": "b6ef6a14",
   "metadata": {},
   "outputs": [],
   "source": []
  },
  {
   "cell_type": "code",
   "execution_count": 50,
   "id": "a967263e",
   "metadata": {},
   "outputs": [],
   "source": [
    "# approximate radius of earth in km\n",
    "def distanceBetweenPoints(lat1, lon1, lat2, lon2):\n",
    "    R = 6373.0\n",
    "\n",
    "    lat1 = radians(lat1)\n",
    "    lon1 = radians(lon1)\n",
    "    lat2 = radians(lat2)\n",
    "    lon2 = radians(lon2)\n",
    "\n",
    "    dlon = lon2 - lon1\n",
    "    dlat = lat2 - lat1\n",
    "\n",
    "    a = sin(dlat / 2)**2 + cos(lat1) * cos(lat2) * sin(dlon / 2)**2\n",
    "    c = 2 * atan2(sqrt(a), sqrt(1 - a))\n",
    "\n",
    "    distance = R * c\n",
    "\n",
    "    return distance\n",
    "\n",
    "for index, row in current_df.iterrows():\n",
    "    for index2, row2 in camera_df.iterrows():\n",
    "        current_df.at[index, 'Cam_Present'] = 0\n",
    "        if distanceBetweenPoints(row2['LATITUDE'], row2['LONGITUDE'], row['Latitude'], row['Longitude']) < 1:\n",
    "            current_df.at[index, 'Cam_Present'] = 1\n",
    "            break"
   ]
  },
  {
   "cell_type": "code",
   "execution_count": 51,
   "id": "5a5c7e77",
   "metadata": {},
   "outputs": [
    {
     "data": {
      "text/html": [
       "<div>\n",
       "<style scoped>\n",
       "    .dataframe tbody tr th:only-of-type {\n",
       "        vertical-align: middle;\n",
       "    }\n",
       "\n",
       "    .dataframe tbody tr th {\n",
       "        vertical-align: top;\n",
       "    }\n",
       "\n",
       "    .dataframe thead th {\n",
       "        text-align: right;\n",
       "    }\n",
       "</style>\n",
       "<table border=\"1\" class=\"dataframe\">\n",
       "  <thead>\n",
       "    <tr style=\"text-align: right;\">\n",
       "      <th></th>\n",
       "      <th>Latitude</th>\n",
       "      <th>Longitude</th>\n",
       "      <th>Cam_Present</th>\n",
       "    </tr>\n",
       "  </thead>\n",
       "  <tbody>\n",
       "    <tr>\n",
       "      <th>0</th>\n",
       "      <td>40.057068</td>\n",
       "      <td>-82.885518</td>\n",
       "      <td>0.0</td>\n",
       "    </tr>\n",
       "    <tr>\n",
       "      <th>1</th>\n",
       "      <td>39.974166</td>\n",
       "      <td>-83.028720</td>\n",
       "      <td>0.0</td>\n",
       "    </tr>\n",
       "    <tr>\n",
       "      <th>2</th>\n",
       "      <td>39.963572</td>\n",
       "      <td>-83.002500</td>\n",
       "      <td>1.0</td>\n",
       "    </tr>\n",
       "    <tr>\n",
       "      <th>3</th>\n",
       "      <td>39.975215</td>\n",
       "      <td>-83.006780</td>\n",
       "      <td>1.0</td>\n",
       "    </tr>\n",
       "    <tr>\n",
       "      <th>4</th>\n",
       "      <td>40.073967</td>\n",
       "      <td>-83.131485</td>\n",
       "      <td>0.0</td>\n",
       "    </tr>\n",
       "  </tbody>\n",
       "</table>\n",
       "</div>"
      ],
      "text/plain": [
       "    Latitude  Longitude  Cam_Present\n",
       "0  40.057068 -82.885518          0.0\n",
       "1  39.974166 -83.028720          0.0\n",
       "2  39.963572 -83.002500          1.0\n",
       "3  39.975215 -83.006780          1.0\n",
       "4  40.073967 -83.131485          0.0"
      ]
     },
     "execution_count": 51,
     "metadata": {},
     "output_type": "execute_result"
    }
   ],
   "source": [
    "current_df.head()"
   ]
  },
  {
   "cell_type": "code",
   "execution_count": 74,
   "id": "deefe5fd",
   "metadata": {},
   "outputs": [],
   "source": [
    "df1 = pd.read_csv('Data/data.csv')"
   ]
  },
  {
   "cell_type": "code",
   "execution_count": 75,
   "id": "cfcf1b0e",
   "metadata": {},
   "outputs": [
    {
     "data": {
      "text/html": [
       "<div>\n",
       "<style scoped>\n",
       "    .dataframe tbody tr th:only-of-type {\n",
       "        vertical-align: middle;\n",
       "    }\n",
       "\n",
       "    .dataframe tbody tr th {\n",
       "        vertical-align: top;\n",
       "    }\n",
       "\n",
       "    .dataframe thead th {\n",
       "        text-align: right;\n",
       "    }\n",
       "</style>\n",
       "<table border=\"1\" class=\"dataframe\">\n",
       "  <thead>\n",
       "    <tr style=\"text-align: right;\">\n",
       "      <th></th>\n",
       "      <th>Latitude (X)</th>\n",
       "      <th>Longitude (Y)</th>\n",
       "      <th>POI_TYPE</th>\n",
       "      <th>Pop_Den</th>\n",
       "      <th>Cam_Present</th>\n",
       "      <th>Tornado Distance</th>\n",
       "      <th>Tornado Magnitude</th>\n",
       "      <th>Classification (Output)</th>\n",
       "    </tr>\n",
       "  </thead>\n",
       "  <tbody>\n",
       "    <tr>\n",
       "      <th>0</th>\n",
       "      <td>40.057068</td>\n",
       "      <td>-82.885518</td>\n",
       "      <td>2</td>\n",
       "      <td>5597.148387</td>\n",
       "      <td>0</td>\n",
       "      <td>12.6</td>\n",
       "      <td>2</td>\n",
       "      <td>1</td>\n",
       "    </tr>\n",
       "    <tr>\n",
       "      <th>1</th>\n",
       "      <td>39.974166</td>\n",
       "      <td>-83.028720</td>\n",
       "      <td>2</td>\n",
       "      <td>1595.315173</td>\n",
       "      <td>1</td>\n",
       "      <td>5.5</td>\n",
       "      <td>3</td>\n",
       "      <td>1</td>\n",
       "    </tr>\n",
       "    <tr>\n",
       "      <th>2</th>\n",
       "      <td>39.963572</td>\n",
       "      <td>-83.002500</td>\n",
       "      <td>1</td>\n",
       "      <td>2293.418377</td>\n",
       "      <td>1</td>\n",
       "      <td>5.5</td>\n",
       "      <td>3</td>\n",
       "      <td>1</td>\n",
       "    </tr>\n",
       "    <tr>\n",
       "      <th>3</th>\n",
       "      <td>39.975215</td>\n",
       "      <td>-83.006780</td>\n",
       "      <td>2</td>\n",
       "      <td>8978.701876</td>\n",
       "      <td>1</td>\n",
       "      <td>5.5</td>\n",
       "      <td>3</td>\n",
       "      <td>1</td>\n",
       "    </tr>\n",
       "    <tr>\n",
       "      <th>4</th>\n",
       "      <td>40.073967</td>\n",
       "      <td>-83.131485</td>\n",
       "      <td>2</td>\n",
       "      <td>3753.776372</td>\n",
       "      <td>0</td>\n",
       "      <td>13.1</td>\n",
       "      <td>2</td>\n",
       "      <td>1</td>\n",
       "    </tr>\n",
       "  </tbody>\n",
       "</table>\n",
       "</div>"
      ],
      "text/plain": [
       "   Latitude (X)  Longitude (Y) POI_TYPE      Pop_Den  Cam_Present  \\\n",
       "0     40.057068     -82.885518        2  5597.148387            0   \n",
       "1     39.974166     -83.028720        2  1595.315173            1   \n",
       "2     39.963572     -83.002500        1  2293.418377            1   \n",
       "3     39.975215     -83.006780        2  8978.701876            1   \n",
       "4     40.073967     -83.131485        2  3753.776372            0   \n",
       "\n",
       "   Tornado Distance  Tornado Magnitude  Classification (Output)  \n",
       "0              12.6                  2                        1  \n",
       "1               5.5                  3                        1  \n",
       "2               5.5                  3                        1  \n",
       "3               5.5                  3                        1  \n",
       "4              13.1                  2                        1  "
      ]
     },
     "execution_count": 75,
     "metadata": {},
     "output_type": "execute_result"
    }
   ],
   "source": [
    "df1.head()"
   ]
  },
  {
   "cell_type": "code",
   "execution_count": 71,
   "id": "79cc944f",
   "metadata": {},
   "outputs": [
    {
     "name": "stderr",
     "output_type": "stream",
     "text": [
      "C:\\Users\\user\\anaconda3\\envs\\newEnv\\lib\\site-packages\\seaborn\\_decorators.py:36: FutureWarning: Pass the following variable as a keyword arg: x. From version 0.12, the only valid positional argument will be `data`, and passing other arguments without an explicit keyword will result in an error or misinterpretation.\n",
      "  warnings.warn(\n"
     ]
    },
    {
     "data": {
      "text/plain": [
       "<AxesSubplot:xlabel='Classification (Output)'>"
      ]
     },
     "execution_count": 71,
     "metadata": {},
     "output_type": "execute_result"
    },
    {
     "data": {
      "image/png": "[encoded data removed]",
      "text/plain": [
       "<Figure size 432x288 with 1 Axes>"
      ]
     },
     "metadata": {
      "needs_background": "light"
     },
     "output_type": "display_data"
    }
   ],
   "source": [
    "sns.barplot(df1['Classification (Output)'].value_counts())"
   ]
  },
  {
   "cell_type": "code",
   "execution_count": 76,
   "id": "4db5e353",
   "metadata": {},
   "outputs": [
    {
     "data": {
      "text/plain": [
       "Latitude (X)                0\n",
       "Longitude (Y)               0\n",
       "POI_TYPE                    0\n",
       "Pop_Den                    17\n",
       "Cam_Present                 0\n",
       "Tornado Distance            0\n",
       "Tornado Magnitude           0\n",
       "Classification (Output)     0\n",
       "dtype: int64"
      ]
     },
     "execution_count": 76,
     "metadata": {},
     "output_type": "execute_result"
    }
   ],
   "source": [
    "df1.isnull().sum()"
   ]
  },
  {
   "cell_type": "code",
   "execution_count": 40,
   "id": "0030b633",
   "metadata": {},
   "outputs": [],
   "source": [
    "cols_to_norm = ['Pop_Den','Tornado Distance']\n",
    "df1[cols_to_norm] = df1[cols_to_norm].apply(lambda x: (x - x.min()) / (x.max() - x.min()))"
   ]
  },
  {
   "cell_type": "code",
   "execution_count": 41,
   "id": "635ff865",
   "metadata": {},
   "outputs": [],
   "source": [
    "x = df1.iloc[:, :7]\n",
    "y = df1.iloc[:, 7]"
   ]
  },
  {
   "cell_type": "code",
   "execution_count": 42,
   "id": "33430adb",
   "metadata": {},
   "outputs": [],
   "source": [
    "x['Pop_Den'] = x['Pop_Den'].fillna((x['Pop_Den'].mean()))"
   ]
  },
  {
   "cell_type": "code",
   "execution_count": 43,
   "id": "0b5e553f",
   "metadata": {},
   "outputs": [],
   "source": [
    "x['POI_TYPE'] = x['POI_TYPE'].replace('None', (x['POI_TYPE'].mode())[0])"
   ]
  },
  {
   "cell_type": "code",
   "execution_count": 44,
   "id": "700f9fe1",
   "metadata": {},
   "outputs": [],
   "source": [
    "from sklearn.model_selection import train_test_split\n",
    "X_train, X_test, Y_train, Y_test = train_test_split(x, y, test_size=0.1, random_state=101)"
   ]
  },
  {
   "cell_type": "code",
   "execution_count": 10,
   "id": "ff9a468f",
   "metadata": {},
   "outputs": [],
   "source": [
    "X_train, X_val, Y_train, Y_val = train_test_split(X_train, Y_train, test_size=0.1, random_state=101)"
   ]
  },
  {
   "cell_type": "code",
   "execution_count": 54,
   "id": "5487c192",
   "metadata": {},
   "outputs": [
    {
     "name": "stdout",
     "output_type": "stream",
     "text": [
      "Logistic_regression's Accuacy is:  0.9375\n"
     ]
    },
    {
     "name": "stderr",
     "output_type": "stream",
     "text": [
      "C:\\Users\\user\\anaconda3\\envs\\newEnv\\lib\\site-packages\\sklearn\\linear_model\\_logistic.py:814: ConvergenceWarning: lbfgs failed to converge (status=1):\n",
      "STOP: TOTAL NO. of ITERATIONS REACHED LIMIT.\n",
      "\n",
      "Increase the number of iterations (max_iter) or scale the data as shown in:\n",
      "    https://scikit-learn.org/stable/modules/preprocessing.html\n",
      "Please also refer to the documentation for alternative solver options:\n",
      "    https://scikit-learn.org/stable/modules/linear_model.html#logistic-regression\n",
      "  n_iter_i = _check_optimize_result(\n"
     ]
    }
   ],
   "source": [
    "from sklearn.linear_model import LogisticRegression\n",
    "model = LogisticRegression(solver='lbfgs', C=400, max_iter=200)\n",
    "model.fit(X_train, Y_train)\n",
    "\n",
    "predicted_values = model.predict(X_test)\n",
    "\n",
    "x = metrics.accuracy_score(Y_test, predicted_values)\n",
    "acc.append(x)\n",
    "model1.append('Logistic_Regression')\n",
    "print(\"Logistic_regression's Accuacy is: \", x)"
   ]
  },
  {
   "cell_type": "code",
   "execution_count": 55,
   "id": "e5c4212b",
   "metadata": {},
   "outputs": [
    {
     "data": {
      "text/plain": [
       "0.9333333333333333"
      ]
     },
     "execution_count": 55,
     "metadata": {},
     "output_type": "execute_result"
    }
   ],
   "source": [
    "model.score(X_val, Y_val)"
   ]
  },
  {
   "cell_type": "code",
   "execution_count": 56,
   "id": "c26f6eb0",
   "metadata": {},
   "outputs": [
    {
     "name": "stdout",
     "output_type": "stream",
     "text": [
      "KNN's Accuacy is:  0.8125\n"
     ]
    }
   ],
   "source": [
    "from sklearn.neighbors import KNeighborsClassifier\n",
    "neigh = KNeighborsClassifier(n_neighbors=3)\n",
    "neigh.fit(X_train, Y_train)\n",
    "predicted_values = neigh.predict(X_test)\n",
    "\n",
    "x = metrics.accuracy_score(Y_test, predicted_values)\n",
    "acc.append(x)\n",
    "model1.append('KNN')\n",
    "print(\"KNN's Accuacy is: \", x)"
   ]
  },
  {
   "cell_type": "code",
   "execution_count": 57,
   "id": "b408bcf4",
   "metadata": {},
   "outputs": [
    {
     "data": {
      "text/plain": [
       "1.0"
      ]
     },
     "execution_count": 57,
     "metadata": {},
     "output_type": "execute_result"
    }
   ],
   "source": [
    "neigh.score(X_val, Y_val)"
   ]
  },
  {
   "cell_type": "code",
   "execution_count": 58,
   "id": "470343bd",
   "metadata": {},
   "outputs": [
    {
     "name": "stdout",
     "output_type": "stream",
     "text": [
      "MLP's Accuacy is:  0.9375\n"
     ]
    }
   ],
   "source": [
    "from sklearn.neural_network import MLPClassifier\n",
    "clf = MLPClassifier(solver='lbfgs', alpha=1e-6, hidden_layer_sizes=(150, 100, 50, 25), random_state=42, learning_rate = 'invscaling')\n",
    "clf.fit(X_train, Y_train)\n",
    "predicted_values = clf.predict(X_test)\n",
    "\n",
    "x = metrics.accuracy_score(Y_test, predicted_values)\n",
    "acc.append(x)\n",
    "model1.append('MLP_CLASSIFIER')\n",
    "print(\"MLP's Accuacy is: \", x)"
   ]
  },
  {
   "cell_type": "code",
   "execution_count": 59,
   "id": "b4c1c18f",
   "metadata": {},
   "outputs": [
    {
     "data": {
      "text/plain": [
       "0.6666666666666666"
      ]
     },
     "execution_count": 59,
     "metadata": {},
     "output_type": "execute_result"
    }
   ],
   "source": [
    "clf.score(X_val, Y_val)"
   ]
  },
  {
   "cell_type": "code",
   "execution_count": 60,
   "id": "3f788ae8",
   "metadata": {},
   "outputs": [
    {
     "name": "stdout",
     "output_type": "stream",
     "text": [
      "SVM's Accuacy is:  0.9375\n"
     ]
    }
   ],
   "source": [
    "from sklearn import svm\n",
    "svm_classifier = svm.SVC(kernel='rbf', C=1e3, gamma='auto')\n",
    "svm_classifier.fit(X_train, Y_train) \n",
    "\n",
    "predicted_values = svm_classifier.predict(X_test)\n",
    "x = metrics.accuracy_score(Y_test, predicted_values)\n",
    "acc.append(x)\n",
    "model1.append('SVM')\n",
    "print(\"SVM's Accuacy is: \", x)"
   ]
  },
  {
   "cell_type": "code",
   "execution_count": 61,
   "id": "871fa891",
   "metadata": {},
   "outputs": [
    {
     "data": {
      "text/plain": [
       "1.0"
      ]
     },
     "execution_count": 61,
     "metadata": {},
     "output_type": "execute_result"
    }
   ],
   "source": [
    "svm_classifier.score(X_val, Y_val)"
   ]
  },
  {
   "cell_type": "code",
   "execution_count": 62,
   "id": "ceb4afd0",
   "metadata": {},
   "outputs": [
    {
     "data": {
      "text/plain": [
       "0.9375"
      ]
     },
     "execution_count": 62,
     "metadata": {},
     "output_type": "execute_result"
    }
   ],
   "source": [
    "model.score(X_test, Y_test)"
   ]
  },
  {
   "cell_type": "code",
   "execution_count": 20,
   "id": "f1a82d3f",
   "metadata": {},
   "outputs": [
    {
     "data": {
      "text/plain": [
       "0.8354430379746836"
      ]
     },
     "execution_count": 20,
     "metadata": {},
     "output_type": "execute_result"
    }
   ],
   "source": [
    "model.score(x, y)"
   ]
  },
  {
   "cell_type": "code",
   "execution_count": 21,
   "id": "5793c56c",
   "metadata": {},
   "outputs": [
    {
     "data": {
      "text/plain": [
       "(158, 8)"
      ]
     },
     "execution_count": 21,
     "metadata": {},
     "output_type": "execute_result"
    }
   ],
   "source": [
    "df1.shape"
   ]
  },
  {
   "cell_type": "code",
   "execution_count": 22,
   "id": "7785856b",
   "metadata": {},
   "outputs": [
    {
     "data": {
      "text/plain": [
       "(127, 7)"
      ]
     },
     "execution_count": 22,
     "metadata": {},
     "output_type": "execute_result"
    }
   ],
   "source": [
    "X_train.shape"
   ]
  },
  {
   "cell_type": "code",
   "execution_count": 23,
   "id": "ec31ca83",
   "metadata": {},
   "outputs": [
    {
     "data": {
      "text/plain": [
       "(15, 7)"
      ]
     },
     "execution_count": 23,
     "metadata": {},
     "output_type": "execute_result"
    }
   ],
   "source": [
    "X_val.shape"
   ]
  },
  {
   "cell_type": "code",
   "execution_count": 24,
   "id": "80b49eff",
   "metadata": {},
   "outputs": [
    {
     "data": {
      "text/plain": [
       "(16, 7)"
      ]
     },
     "execution_count": 24,
     "metadata": {},
     "output_type": "execute_result"
    }
   ],
   "source": [
    "X_test.shape"
   ]
  },
  {
   "cell_type": "code",
   "execution_count": 25,
   "id": "44e6fa4f",
   "metadata": {},
   "outputs": [
    {
     "data": {
      "text/plain": [
       "43     1\n",
       "152    0\n",
       "60     1\n",
       "107    0\n",
       "47     1\n",
       "98     0\n",
       "26     1\n",
       "15     1\n",
       "3      1\n",
       "6      1\n",
       "14     1\n",
       "18     1\n",
       "65     1\n",
       "66     1\n",
       "38     1\n",
       "Name: Classification (Output), dtype: int64"
      ]
     },
     "execution_count": 25,
     "metadata": {},
     "output_type": "execute_result"
    }
   ],
   "source": [
    "Y_val"
   ]
  },
  {
   "cell_type": "code",
   "execution_count": 53,
   "id": "90a79196",
   "metadata": {},
   "outputs": [],
   "source": [
    "acc = []\n",
    "model1 = []"
   ]
  },
  {
   "cell_type": "code",
   "execution_count": 63,
   "id": "21da6d91",
   "metadata": {},
   "outputs": [
    {
     "name": "stdout",
     "output_type": "stream",
     "text": [
      "Naive Bayes's Accuracy is:  1.0\n",
      "              precision    recall  f1-score   support\n",
      "\n",
      "           0       1.00      1.00      1.00         7\n",
      "           1       1.00      1.00      1.00         9\n",
      "\n",
      "    accuracy                           1.00        16\n",
      "   macro avg       1.00      1.00      1.00        16\n",
      "weighted avg       1.00      1.00      1.00        16\n",
      "\n",
      "[[7 0]\n",
      " [0 9]]\n"
     ]
    }
   ],
   "source": [
    "from sklearn.naive_bayes import GaussianNB\n",
    "from sklearn.metrics import confusion_matrix\n",
    "from sklearn.metrics import classification_report\n",
    "from sklearn import metrics\n",
    "import seaborn as sns\n",
    "\n",
    "\n",
    "NaiveBayes = GaussianNB()\n",
    "\n",
    "NaiveBayes.fit(X_train,Y_train)\n",
    "\n",
    "predicted_values = NaiveBayes.predict(X_test)\n",
    "x = metrics.accuracy_score(Y_test, predicted_values)\n",
    "acc.append(x)\n",
    "model1.append('Naive Bayes')\n",
    "print(\"Naive Bayes's Accuracy is: \", x)\n",
    "\n",
    "print(classification_report(Y_test,predicted_values))\n",
    "print(confusion_matrix(Y_test,predicted_values))"
   ]
  },
  {
   "cell_type": "code",
   "execution_count": 64,
   "id": "38581574",
   "metadata": {},
   "outputs": [
    {
     "name": "stdout",
     "output_type": "stream",
     "text": [
      "RF's Accuracy is:  1.0\n",
      "              precision    recall  f1-score   support\n",
      "\n",
      "           0       1.00      1.00      1.00         7\n",
      "           1       1.00      1.00      1.00         9\n",
      "\n",
      "    accuracy                           1.00        16\n",
      "   macro avg       1.00      1.00      1.00        16\n",
      "weighted avg       1.00      1.00      1.00        16\n",
      "\n"
     ]
    }
   ],
   "source": [
    "from sklearn.ensemble import RandomForestClassifier\n",
    "\n",
    "RF = RandomForestClassifier(n_estimators=20, random_state=0)\n",
    "RF.fit(X_train,Y_train)\n",
    "\n",
    "predicted_values = RF.predict(X_test)\n",
    "\n",
    "x = metrics.accuracy_score(Y_test, predicted_values)\n",
    "acc.append(x)\n",
    "model1.append('RF')\n",
    "print(\"RF's Accuracy is: \", x)\n",
    "\n",
    "print(classification_report(Y_test,predicted_values))"
   ]
  },
  {
   "cell_type": "code",
   "execution_count": 65,
   "id": "e291463a",
   "metadata": {},
   "outputs": [
    {
     "ename": "ModuleNotFoundError",
     "evalue": "No module named 'XGBClassifier'",
     "output_type": "error",
     "traceback": [
      "\u001b[1;31m---------------------------------------------------------------------------\u001b[0m",
      "\u001b[1;31mModuleNotFoundError\u001b[0m                       Traceback (most recent call last)",
      "Input \u001b[1;32mIn [65]\u001b[0m, in \u001b[0;36m<cell line: 1>\u001b[1;34m()\u001b[0m\n\u001b[1;32m----> 1\u001b[0m \u001b[38;5;28;01mimport\u001b[39;00m \u001b[38;5;21;01mXGBClassifier\u001b[39;00m \u001b[38;5;28;01mas\u001b[39;00m \u001b[38;5;21;01mxgb\u001b[39;00m\n\u001b[0;32m      2\u001b[0m XB \u001b[38;5;241m=\u001b[39m xgb\u001b[38;5;241m.\u001b[39mXGBClassifier()\n\u001b[0;32m      3\u001b[0m XB\u001b[38;5;241m.\u001b[39mfit(X_train,Y_train)\n",
      "\u001b[1;31mModuleNotFoundError\u001b[0m: No module named 'XGBClassifier'"
     ]
    }
   ],
   "source": [
    "import XGBClassifier as xgb\n",
    "XB = xgb.XGBClassifier()\n",
    "XB.fit(X_train,Y_train)\n",
    "\n",
    "predicted_values = XB.predict(Xtest)\n",
    "\n",
    "x = metrics.accuracy_score(Y_test, predicted_values)\n",
    "acc.append(x)\n",
    "model1.append('XGBoost')\n",
    "print(\"XGBoost's Accuracy is: \", x)\n",
    "\n",
    "print(classification_report(Y_test,predicted_values))"
   ]
  },
  {
   "cell_type": "code",
   "execution_count": null,
   "id": "342b1035",
   "metadata": {},
   "outputs": [],
   "source": [
    "pip install xgboost"
   ]
  },
  {
   "cell_type": "code",
   "execution_count": 72,
   "id": "54998475",
   "metadata": {},
   "outputs": [],
   "source": [
    "clss= [1,0]\n",
    "count = [79,79]"
   ]
  },
  {
   "cell_type": "code",
   "execution_count": 73,
   "id": "5eb61364",
   "metadata": {},
   "outputs": [
    {
     "data": {
      "text/plain": [
       "<AxesSubplot:title={'center':'Distribuition'}, xlabel='Class', ylabel='Count'>"
      ]
     },
     "execution_count": 73,
     "metadata": {},
     "output_type": "execute_result"
    },
    {
     "data": {
      "image/png": "[encoded data removed]",
      "text/plain": [
       "<Figure size 1000x500 with 1 Axes>"
      ]
     },
     "metadata": {
      "needs_background": "light"
     },
     "output_type": "display_data"
    }
   ],
   "source": [
    "plt.figure(figsize=[10,5],dpi = 100)\n",
    "plt.title('Distribuition')\n",
    "plt.xlabel('Class')\n",
    "plt.ylabel('Count')\n",
    "sns.barplot(x = clss,y = count,palette='dark')"
   ]
  },
  {
   "cell_type": "code",
   "execution_count": 67,
   "id": "a397720a",
   "metadata": {},
   "outputs": [
    {
     "data": {
      "text/plain": [
       "<AxesSubplot:title={'center':'Accuracy Comparison'}, xlabel='Accuracy', ylabel='Algorithm'>"
      ]
     },
     "execution_count": 67,
     "metadata": {},
     "output_type": "execute_result"
    },
    {
     "data": {
      "image/png": "[encoded data removed]",
      "text/plain": [
       "<Figure size 1000x500 with 1 Axes>"
      ]
     },
     "metadata": {
      "needs_background": "light"
     },
     "output_type": "display_data"
    }
   ],
   "source": [
    "plt.figure(figsize=[10,5],dpi = 100)\n",
    "plt.title('Accuracy Comparison')\n",
    "plt.xlabel('Accuracy')\n",
    "plt.ylabel('Algorithm')\n",
    "sns.barplot(x = acc,y = model1,palette='dark')"
   ]
  },
  {
   "cell_type": "code",
   "execution_count": 69,
   "id": "be4320f3",
   "metadata": {},
   "outputs": [
    {
     "name": "stderr",
     "output_type": "stream",
     "text": [
      "C:\\Users\\user\\anaconda3\\envs\\newEnv\\lib\\site-packages\\sklearn\\utils\\deprecation.py:87: FutureWarning: Function plot_confusion_matrix is deprecated; Function `plot_confusion_matrix` is deprecated in 1.0 and will be removed in 1.2. Use one of the class methods: ConfusionMatrixDisplay.from_predictions or ConfusionMatrixDisplay.from_estimator.\n",
      "  warnings.warn(msg, category=FutureWarning)\n"
     ]
    },
    {
     "data": {
      "text/plain": [
       "<sklearn.metrics._plot.confusion_matrix.ConfusionMatrixDisplay at 0x10ffde5c760>"
      ]
     },
     "execution_count": 69,
     "metadata": {},
     "output_type": "execute_result"
    },
    {
     "data": {
      "image/png": "[encoded data removed]",
      "text/plain": [
       "<Figure size 432x288 with 2 Axes>"
      ]
     },
     "metadata": {
      "needs_background": "light"
     },
     "output_type": "display_data"
    }
   ],
   "source": [
    "from sklearn.metrics import plot_confusion_matrix\n",
    "plot_confusion_matrix(RF, X_test, Y_test)"
   ]
  },
  {
   "cell_type": "code",
   "execution_count": null,
   "id": "d098a939",
   "metadata": {},
   "outputs": [],
   "source": []
  }
 ],
 "metadata": {
  "kernelspec": {
   "display_name": "Python 3 (ipykernel)",
   "language": "python",
   "name": "python3"
  },
  "language_info": {
   "codemirror_mode": {
    "name": "ipython",
    "version": 3
   },
   "file_extension": ".py",
   "mimetype": "text/x-python",
   "name": "python",
   "nbconvert_exporter": "python",
   "pygments_lexer": "ipython3",
   "version": "3.9.12"
  }
 },
 "nbformat": 4,
 "nbformat_minor": 5
}
